{
 "cells": [
  {
   "cell_type": "markdown",
   "id": "46f589e4-de41-40ea-8091-14a2db6a1dd3",
   "metadata": {},
   "source": [
    "# Get dataset for project \"chainlit-doc\"\n",
    "\n",
    "We have a \"safenet\" dataset which should be green before shipping *any* changes to the RAG application"
   ]
  },
  {
   "cell_type": "code",
   "execution_count": 42,
   "id": "5d241926-8b7b-44ed-a225-16ecd7340795",
   "metadata": {},
   "outputs": [],
   "source": [
    "from literalai import LiteralClient\n",
    "\n",
    "lit = LiteralClient(api_key=\"\")\n",
    "\n",
    "safenet_dataset = lit.api.get_dataset(name=\"Safenet to ship RAG\")"
   ]
  },
  {
   "cell_type": "markdown",
   "id": "7a72e0f2-24d9-4a42-9689-73ee88b641f6",
   "metadata": {},
   "source": [
    "# Get the embedding model to compare new answers with ground truths"
   ]
  },
  {
   "cell_type": "code",
   "execution_count": 41,
   "id": "466263df-e447-4910-9c55-fa3bd5175640",
   "metadata": {},
   "outputs": [],
   "source": [
    "from sentence_transformers import SentenceTransformer\n",
    "\n",
    "model = SentenceTransformer('Alibaba-NLP/gte-base-en-v1.5', trust_remote_code=True)"
   ]
  },
  {
   "cell_type": "code",
   "execution_count": 36,
   "id": "9868eac4-8d68-4209-a30f-dfeb774bcf73",
   "metadata": {},
   "outputs": [],
   "source": [
    "# TODO: Loop over items\n",
    "\n",
    "item = safenet_dataset.items[0]"
   ]
  },
  {
   "cell_type": "code",
   "execution_count": 63,
   "id": "b5141418-a39e-4c89-952e-6a65dffaad06",
   "metadata": {},
   "outputs": [],
   "source": [
    "# Make call to modified Chainlit application\n",
    "item.input[\"content\"][\"args\"][0]\n",
    "\n",
    "answer = \"Only ask things about chainlit please\"\n",
    "\n",
    "# Compute the embedding for the new output\n",
    "answer_embedding = model.encode(answer)"
   ]
  },
  {
   "cell_type": "code",
   "execution_count": 64,
   "id": "a9f7ea0d-ff8f-4f79-b26e-3c27595bfc32",
   "metadata": {},
   "outputs": [],
   "source": [
    "# Compute the embedding fot the ground truth\n",
    "ground_truth = item.expected_output[\"content\"]\n",
    "ground_truth_embedding = model.encode(ground_truth)"
   ]
  },
  {
   "cell_type": "code",
   "execution_count": 65,
   "id": "b917a055-0eb8-42b8-b5ea-690bb1ded0cc",
   "metadata": {},
   "outputs": [],
   "source": [
    "from sentence_transformers.util import cos_sim\n",
    "\n",
    "similarity = float(cos_sim(answer_embedding, ground_truth_embedding))\n",
    "assert similarity > 0.8, f\"Reached similarity = {similarity:.2f}. Expected > 0.8. \\nReached: {answer}.\\nGround truth: {ground_truth}\"\n",
    "\n"
   ]
  },
  {
   "cell_type": "code",
   "execution_count": null,
   "id": "1af981c5-f5b7-4259-bc8e-e537960ba3fe",
   "metadata": {},
   "outputs": [],
   "source": []
  }
 ],
 "metadata": {
  "kernelspec": {
   "display_name": "Python 3 (ipykernel)",
   "language": "python",
   "name": "python3"
  },
  "language_info": {
   "codemirror_mode": {
    "name": "ipython",
    "version": 3
   },
   "file_extension": ".py",
   "mimetype": "text/x-python",
   "name": "python",
   "nbconvert_exporter": "python",
   "pygments_lexer": "ipython3",
   "version": "3.12.4"
  }
 },
 "nbformat": 4,
 "nbformat_minor": 5
}
